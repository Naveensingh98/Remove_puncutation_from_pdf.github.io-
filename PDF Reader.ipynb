{
 "cells": [
  {
   "cell_type": "code",
   "execution_count": 1,
   "source": [
    "import PyPDF2 \r\n",
    "a=PyPDF2.PdfFileReader('Head First Python.pdf') \r\n",
    "print(a.documentInfo)\r\n",
    "print(a.getNumPages())\r\n",
    "# print(a.getPage(13).extractText())\r\n",
    "str =\"\"\r\n",
    "for i in range(2,4):\r\n",
    "    str +=a.getPage(i).extractText()\r\n",
    "\r\n",
    "with open(\"text.txt\",\"w\",encoding='utf-8') as f:\r\n",
    "    f.write(str)"
   ],
   "outputs": [
    {
     "output_type": "stream",
     "name": "stdout",
     "text": [
      "{'/Trapped': '/False', '/ModDate': \"D:20161128104050+02'00'\", '/Title': 'Head First Python', '/CreationDate': \"D:20161102132024-04'00'\", '/Creator': 'Adobe InDesign CC 2015 (Macintosh)', '/EBX_PUBLISHER': \"/O'Reilly#20Media\", '/Author': 'Paul Barry', '/Producer': 'Adobe PDF Library 15.0'}\n",
      "624\n"
     ]
    }
   ],
   "metadata": {}
  },
  {
   "cell_type": "code",
   "execution_count": 4,
   "source": [
    "import re\r\n",
    "filename = r'text.txt'\r\n",
    "\r\n",
    "string = open(filename,'r',encoding=\"utf-8\").read()\r\n",
    "new_str = re.sub('[^a-zA-Z0-9\\n]', ' ', string)\r\n",
    "open('punctuation removed.txt', 'w',encoding=\"utf-8\").write(new_str)\r\n"
   ],
   "outputs": [
    {
     "output_type": "execute_result",
     "data": {
      "text/plain": [
       "3935"
      ]
     },
     "metadata": {},
     "execution_count": 4
    }
   ],
   "metadata": {}
  },
  {
   "cell_type": "code",
   "execution_count": 5,
   "source": [
    "f = open(\"punctuation removed.txt\", \"r\")\r\n",
    "a =f.read().split()\r\n",
    "# print(a)"
   ],
   "outputs": [],
   "metadata": {}
  },
  {
   "cell_type": "code",
   "execution_count": 9,
   "source": [
    "import json\r\n",
    "\r\n",
    "temp_file = json.dumps(a,indent = 2)\r\n",
    "with open(\"my_file.json\", \"w\") as file:\r\n",
    "    file.write(temp_file)\r\n",
    "# print(temp_file)    \r\n",
    "\r\n"
   ],
   "outputs": [],
   "metadata": {}
  },
  {
   "cell_type": "code",
   "execution_count": 10,
   "source": [
    "with open(\"my_file.json\",\"r\") as file:\r\n",
    "    temp = json.load(file)\r\n",
    "\r\n",
    "# print(temp)    "
   ],
   "outputs": [],
   "metadata": {}
  }
 ],
 "metadata": {
  "orig_nbformat": 4,
  "language_info": {
   "name": "python",
   "version": "3.8.8",
   "mimetype": "text/x-python",
   "codemirror_mode": {
    "name": "ipython",
    "version": 3
   },
   "pygments_lexer": "ipython3",
   "nbconvert_exporter": "python",
   "file_extension": ".py"
  },
  "kernelspec": {
   "name": "python3",
   "display_name": "Python 3.8.8 64-bit"
  },
  "interpreter": {
   "hash": "c4e68de8c593cdac141db214cedb15f85b76d40186aa0d14654081f8223d5857"
  }
 },
 "nbformat": 4,
 "nbformat_minor": 2
}